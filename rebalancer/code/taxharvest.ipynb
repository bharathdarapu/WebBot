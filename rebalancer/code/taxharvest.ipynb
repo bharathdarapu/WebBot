{
 "cells": [
  {
   "cell_type": "code",
   "execution_count": 1,
   "metadata": {},
   "outputs": [],
   "source": [
    "#Lets import the necessary packages\n",
    "import pandas as pd\n",
    "from IPython.display import display\n",
    "pd.set_option('display.max_columns', None)\n",
    "import numpy as np\n",
    "import datetime\n",
    "import decimal\n",
    "from pandas_datareader import data as pdr\n",
    "from keys import tiingo_key\n",
    "import matplotlib.pyplot as plt\n",
    "#define todays datetime\n",
    "now = datetime.datetime.now()\n",
    "from dateutil.relativedelta import relativedelta\n",
    "#uncomment below to override tiingo_key with your own! \n",
    "tiingo_key = 'c45f59abd1f342047df4025a5412c16d3ed11c45'\n",
    "\n",
    "#Settings\n",
    "new_money_in = 0\n",
    "#Set our rebalance threshold\n",
    "rebal_threshold = .05 #allowable allocation drift\n",
    "rebal_timeframe = 30 #in days\n",
    "\n",
    "#lookup table for account type abbreviations\n",
    "accounttypes = {'TAXB':'Taxable Brokerage', '401K':'401k', 'RIRA':'Roth-IRA', 'TIRA':'Traditional-IRA'}\n",
    "assetclasses = {'ST':'Equity Stocks', 'BD':'Bonds Fixed-Income', 'CS':'Cash and Commodities', 'RE':'Real-Estate', 'ALT':'Alternatives'}\n",
    "assettypes = {'SEC':'Individual Security', 'ETF':'Exchange Traded Fund', 'MF': 'Mutual Fund', 'IF':'Index Fund'}\n",
    "assetregion = {'D':'Domestic','I':'International'}"
   ]
  },
  {
   "cell_type": "code",
   "execution_count": 2,
   "metadata": {},
   "outputs": [],
   "source": [
    "#get first tuesday of a given month and year\n",
    "def get_day(year, month):\n",
    "    d = datetime.datetime(year, month, 1)\n",
    "    offset = 1-d.weekday() #weekday = 1 means tuesday\n",
    "    if offset < 0:\n",
    "        offset+=7\n",
    "    return d+datetime.timedelta(offset)\n",
    "\n",
    "#custom apply function\n",
    "def f(x):\n",
    "    d = {}\n",
    "    d['lastrebaldate'] = x['lastrebaldate'].max()\n",
    "    d['assetclass'] = x['assetclass'].max()\n",
    "    d['basisdate'] = x['basisdate'].min()\n",
    "    d['costbasis'] = (x['costbasis'] * x['shares']).sum()/(x['shares'].sum() or 1) #weighted avg\n",
    "    d['shares'] = x['shares'].sum()\n",
    "    return pd.Series(d, index=['lastrebaldate', 'assetclass', 'basisdate', 'costbasis', 'shares'])\n",
    "\n",
    "def get_prices(tickers, rebalance_date):\n",
    "    bad_tickers = []\n",
    "    for i, t in enumerate(tickers):\n",
    "        try:\n",
    "            if i==0:\n",
    "                pricelist = pdr.get_data_tiingo(t, start, rebalance_date, api_key=tiingo_key).tail(1).close\n",
    "            else:\n",
    "                pricelist = pricelist.append(pdr.get_data_tiingo(t, start, rebalance_date, api_key=tiingo_key).tail(1).close)\n",
    "        except:\n",
    "            bad_tickers.append(t)\n",
    "\n",
    "    print(bad_tickers)\n",
    "    #Manual fix for known bad_tickers which Tiingo can't find, adjust to suit your needs\n",
    "    if 'VMFXX' in bad_tickers:\n",
    "        pricelist2.loc['VMFXX'] = 1.0\n",
    "        \n",
    "    pricelist = pricelist.to_frame(name='close')\n",
    "    pricelist.rename(columns={\"close\":\"price\"},  inplace=True)\n",
    "\n",
    "    #drop our date index since its only the latest data\n",
    "    pricelist2=pricelist.reset_index(level=1, drop=True)\n",
    "    pricelist2.loc['MONEY']=1.0\n",
    "    return pricelist2"
   ]
  },
  {
   "cell_type": "code",
   "execution_count": 3,
   "metadata": {},
   "outputs": [],
   "source": [
    "\n",
    "#initialize target portfolio\n",
    "#targetalloc = pd.DataFrame(columns = columns_t, data = positions_t)\n",
    "targetalloc = pd.read_csv('../assets/targetmodel.csv')\n",
    "total=decimal.Decimal(targetalloc.allocation_target.sum())\n",
    "#check that our target allocation indeed adds to 100%\n",
    "assert round(total,4) == 1,'Target Allocation not 100% : {}'.format(int(total))\n",
    "\n",
    "#initialize current portfolio\n",
    "#port_taxlots = pd.DataFrame(columns = columns_c, data = taxlots_c)\n",
    "port_taxlots = pd.read_csv('../assets/taxlots.csv')\n",
    "port_taxlots.lastrebaldate = pd.to_datetime(port_taxlots.lastrebaldate)\n",
    "port_taxlots.basisdate = pd.to_datetime(port_taxlots.basisdate)\n",
    "\n",
    "#aggregate by ticker to account for securities held to compute positions\n",
    "port_positions = port_taxlots.groupby(['ticker']).apply(f)"
   ]
  },
  {
   "cell_type": "code",
   "execution_count": 4,
   "metadata": {},
   "outputs": [],
   "source": [
    "#pick a day for rebalancing\n",
    "start = datetime.datetime.strptime('2015-01-02', '%Y-%m-%d').date()\n",
    "current_date = start + relativedelta(months=+3)\n",
    "rebalance_date = get_day(current_date.year,current_date.month)"
   ]
  },
  {
   "cell_type": "code",
   "execution_count": 5,
   "metadata": {
    "run_control": {
     "marked": true
    }
   },
   "outputs": [
    {
     "name": "stdout",
     "output_type": "stream",
     "text": [
      "['MONEY']\n"
     ]
    }
   ],
   "source": [
    "#Collect list of distinct tickers we care about\n",
    "tickerlist = set(targetalloc.ticker.unique().tolist()+port_taxlots.ticker.unique().tolist())\n",
    "\n",
    "# get prices of distinct tickers\n",
    "prices = get_prices(tickerlist, start)\n"
   ]
  },
  {
   "cell_type": "code",
   "execution_count": 6,
   "metadata": {},
   "outputs": [],
   "source": [
    "#combine current and target portfolio\n",
    "start_port_c = pd.merge(port_positions, targetalloc, on ='ticker', how ='outer')\n",
    "# add current prices\n",
    "final_port = pd.merge(start_port_c, prices, left_on ='ticker', right_index = True, how = 'left')\n",
    "#set target to zero for tickers held but not present in our target allocation, set initial basisdate and costbasis for new securities entering the portfolio\n",
    "final_port.fillna(value = {'allocation_target':0.0,'shares':0.0,'basisdate':pd.to_datetime(now.strftime(\"%Y-%m-%d\")),'costbasis':final_port.price,'assetclass_x':final_port.assetclass_y},inplace = True)\n",
    "final_port.drop(['assetclass_y'],axis=1,inplace=True)\n",
    "final_port.rename(columns={'assetclass_x':'assetclass'},inplace=True)\n",
    "\n",
    "#calculate holding values and current allocation\n",
    "final_port['value'] = final_port.price * final_port.shares #calculate value as price x shares\n",
    "final_port.loc[final_port.value.isna() & final_port.shares.isna(),['value']]=0.0 #for securities not currently held but in our target (and close price failed to return), establish zero value\n",
    "final_port['allocation'] = final_port.value / final_port.value.sum()\n",
    "final_port['correction'] = final_port.allocation_target - final_port.allocation\n",
    "final_port['new_money_in'] = new_money_in * final_port.allocation_target #Account for new money in\n",
    "#create timedelta int column\n",
    "final_port['timedelta'] = (final_port.lastrebaldate - pd.to_datetime(rebalance_date.strftime(\"%Y-%m-%d\"))).dt.days\n",
    "final_port.timedelta.fillna(0,inplace=True)\n",
    "\n",
    "#define rebalance flags to determine if we must rebalance\n",
    "final_port['rebal_flag_thresh'] = np.where((abs(final_port.correction)<=rebal_threshold) & (final_port.allocation > 0),0,1)\n",
    "final_port['rebal_flag_time'] = np.where(final_port.timedelta >= rebal_timeframe,1,0)\n",
    "final_port['rebal_flag_exit'] = np.where((final_port.allocation > 0) & (final_port.allocation_target==0),1,0) #force rebal securities not present in our target portfolio\n",
    "final_port['rebal_flag_newmoney'] = np.where(final_port.new_money_in>0,1,0)\n",
    "final_port['rebal_flag'] = np.where(final_port.rebal_flag_thresh + final_port.rebal_flag_time + final_port.rebal_flag_exit + final_port.rebal_flag_newmoney >= 1,1,0)\n",
    "\n",
    "#Subset of securities we need to rebalance, and those we need to leave alone\n",
    "rebal_port = final_port[final_port.rebal_flag==1].copy()\n",
    "stable_port = final_port[final_port.rebal_flag==0].copy()"
   ]
  },
  {
   "cell_type": "code",
   "execution_count": null,
   "metadata": {},
   "outputs": [],
   "source": []
  },
  {
   "cell_type": "code",
   "execution_count": 7,
   "metadata": {},
   "outputs": [],
   "source": [
    "#Calculate our current allocation, target, and the change we need to hit target\n",
    "total_val = rebal_port.value.sum()\n",
    "rebal_port['allocation'] = rebal_port.value/rebal_port.value.sum()\n",
    "rebal_port['allocation_target'] = rebal_port.allocation_target/rebal_port.allocation_target.sum()\n",
    "rebal_port['correction'] = rebal_port.allocation_target - rebal_port.allocation\n",
    "\n",
    "#Factor in any new money entering the portfolio and determine necessary changes in value and shares\n",
    "rebal_port['value_chg'] = (total_val * rebal_port.correction) + rebal_port.new_money_in\n",
    "rebal_port['shares_chg'] = rebal_port.value_chg / rebal_port.price\n",
    "rebal_port.loc[rebal_port.value_chg.isna() & rebal_port.shares > 0,['shares_chg']]=-rebal_port.shares #sell all shares of securities not in our target portfolio\n",
    "\n",
    "#Round off shares to whole numbers, except when we are fully exiting a position\n",
    "rebal_port['shares_chg_round'] = rebal_port.shares_chg\n",
    "rebal_port = rebal_port.astype({'shares_chg_round': int})\n",
    "rebal_port['final_shares_chg'] = rebal_port.shares_chg\n",
    "rebal_port.loc[np.round(rebal_port.shares_chg+rebal_port.shares)!=0,['final_shares_chg']]=rebal_port.shares_chg_round*1.0\n",
    "rebal_port.drop(['shares_chg_round'],axis=1,inplace=True)\n",
    "\n",
    "#Calculate initial new shares and values\n",
    "rebal_port['new_shares'] = np.round(rebal_port.shares + rebal_port.final_shares_chg,3)\n",
    "rebal_port['new_value'] = rebal_port.new_shares * rebal_port.price #due to share rounding, there will be slight variance vs. portfolio starting value\n",
    "rebal_port['new_value_chg'] = rebal_port.final_shares_chg * rebal_port.price"
   ]
  },
  {
   "cell_type": "code",
   "execution_count": 8,
   "metadata": {},
   "outputs": [],
   "source": [
    "#Double check our work so far\n",
    "#net of buying and selling should be zero\n",
    "assert(np.round(rebal_port.value_chg.sum(),3)-new_money_in==0) \n",
    "#make sure totals match (with rounding error + new money in) from original portfolio and rebalanced portfolio\n",
    "assert(np.round(rebal_port.new_value.sum() - rebal_port.value.sum(),3)==np.round((rebal_port.new_value.sum() + stable_port.value.sum()) - final_port.value.sum(),3))"
   ]
  },
  {
   "cell_type": "code",
   "execution_count": 9,
   "metadata": {},
   "outputs": [
    {
     "name": "stdout",
     "output_type": "stream",
     "text": [
      "  ticker lastrebaldate assetclass  basisdate  costbasis    shares  \\\n",
      "0  MONEY    2013-01-01         ST 2013-01-01       1.00  100000.0   \n",
      "1   AAPL           NaT         ST 2022-02-26     109.33       0.0   \n",
      "2    PFE           NaT         ST 2022-02-26      31.33       0.0   \n",
      "3     HD           NaT         ST 2022-02-26     103.43       0.0   \n",
      "4    DVN           NaT         ST 2022-02-26      60.96       0.0   \n",
      "\n",
      "   allocation_target   price     value  allocation  correction  new_money_in  \\\n",
      "0               0.00    1.00  100000.0         1.0       -1.00           0.0   \n",
      "1               0.25  109.33       0.0         0.0        0.25           0.0   \n",
      "2               0.25   31.33       0.0         0.0        0.25           0.0   \n",
      "3               0.25  103.43       0.0         0.0        0.25           0.0   \n",
      "4               0.25   60.96       0.0         0.0        0.25           0.0   \n",
      "\n",
      "   rebal_flag  final_shares_chg  new_shares  new_value  new_value_chg  \\\n",
      "0           1         -100000.0         0.0       0.00     -100000.00   \n",
      "1           1             228.0       228.0   24927.24       24927.24   \n",
      "2           1             797.0       797.0   24970.01       24970.01   \n",
      "3           1             241.0       241.0   24926.63       24926.63   \n",
      "4           1             410.0       410.0   24993.60       24993.60   \n",
      "\n",
      "   final_allocation  \n",
      "0          0.000000  \n",
      "1          0.249728  \n",
      "2          0.250157  \n",
      "3          0.249722  \n",
      "4          0.250393  \n"
     ]
    }
   ],
   "source": [
    "#Merge our rebalanced portfolio with our stable portfolio for our execution portfolio\n",
    "stable_port['value_chg'] = 0\n",
    "stable_port['shares_chg']=0\n",
    "stable_port['final_shares_chg'] = 0\n",
    "stable_port['new_value_chg'] = 0\n",
    "stable_port['new_shares'] = stable_port.shares\n",
    "stable_port['new_value'] = stable_port.value\n",
    "exec_port = pd.concat([rebal_port,stable_port],sort=False)\n",
    "exec_port.drop(columns=['timedelta','rebal_flag_thresh','rebal_flag_time','rebal_flag_exit','rebal_flag_newmoney','value_chg','shares_chg'],inplace=True)\n",
    "\n",
    "#Reset allocations to be based on all securities\n",
    "exec_port['allocation'] = exec_port.value/exec_port.value.sum()\n",
    "exec_port['allocation_target'] = exec_port.allocation_target/exec_port.allocation_target.sum()\n",
    "exec_port['correction'] = exec_port.allocation_target - exec_port.allocation\n",
    "exec_port['final_allocation'] = exec_port.new_value / exec_port.new_value.sum()\n",
    "\n",
    "print(exec_port)"
   ]
  },
  {
   "cell_type": "code",
   "execution_count": 10,
   "metadata": {
    "scrolled": true
   },
   "outputs": [
    {
     "data": {
      "image/png": "[encoded data removed]",
      "text/plain": [
       "<Figure size 1440x720 with 1 Axes>"
      ]
     },
     "metadata": {
      "needs_background": "light"
     },
     "output_type": "display_data"
    }
   ],
   "source": [
    "#Lets add a bar chart here to show the new allocation vs. the target allocation and vs. the original portfolio\n",
    "graph_port = exec_port[['ticker','allocation','allocation_target','final_allocation']].copy()\n",
    "graph_port.plot.barh(x='ticker',figsize=(20,10))\n",
    "plt.show()"
   ]
  },
  {
   "cell_type": "code",
   "execution_count": 11,
   "metadata": {},
   "outputs": [
    {
     "data": {
      "text/html": [
       "<div>\n",
       "<style scoped>\n",
       "    .dataframe tbody tr th:only-of-type {\n",
       "        vertical-align: middle;\n",
       "    }\n",
       "\n",
       "    .dataframe tbody tr th {\n",
       "        vertical-align: top;\n",
       "    }\n",
       "\n",
       "    .dataframe thead th {\n",
       "        text-align: right;\n",
       "    }\n",
       "</style>\n",
       "<table border=\"1\" class=\"dataframe\">\n",
       "  <thead>\n",
       "    <tr style=\"text-align: right;\">\n",
       "      <th></th>\n",
       "      <th>accounttype</th>\n",
       "      <th>accountid</th>\n",
       "      <th>lastrebaldate</th>\n",
       "      <th>ticker</th>\n",
       "      <th>assetclass</th>\n",
       "      <th>basisdate</th>\n",
       "      <th>costbasis</th>\n",
       "      <th>shares</th>\n",
       "    </tr>\n",
       "  </thead>\n",
       "  <tbody>\n",
       "    <tr>\n",
       "      <th>0</th>\n",
       "      <td>TAXB</td>\n",
       "      <td>3333</td>\n",
       "      <td>2013-01-01</td>\n",
       "      <td>MONEY</td>\n",
       "      <td>ST</td>\n",
       "      <td>2013-01-01</td>\n",
       "      <td>1</td>\n",
       "      <td>100000</td>\n",
       "    </tr>\n",
       "  </tbody>\n",
       "</table>\n",
       "</div>"
      ],
      "text/plain": [
       "  accounttype  accountid lastrebaldate ticker assetclass  basisdate  \\\n",
       "0        TAXB       3333    2013-01-01  MONEY         ST 2013-01-01   \n",
       "\n",
       "   costbasis  shares  \n",
       "0          1  100000  "
      ]
     },
     "execution_count": 11,
     "metadata": {},
     "output_type": "execute_result"
    }
   ],
   "source": [
    "port_taxlots"
   ]
  }
 ],
 "metadata": {
  "kernelspec": {
   "display_name": "Python 3 (ipykernel)",
   "language": "python",
   "name": "python3"
  },
  "language_info": {
   "codemirror_mode": {
    "name": "ipython",
    "version": 3
   },
   "file_extension": ".py",
   "mimetype": "text/x-python",
   "name": "python",
   "nbconvert_exporter": "python",
   "pygments_lexer": "ipython3",
   "version": "3.9.10"
  },
  "toc": {
   "base_numbering": 1,
   "nav_menu": {},
   "number_sections": true,
   "sideBar": true,
   "skip_h1_title": false,
   "title_cell": "Table of Contents",
   "title_sidebar": "Contents",
   "toc_cell": false,
   "toc_position": {},
   "toc_section_display": true,
   "toc_window_display": false
  }
 },
 "nbformat": 4,
 "nbformat_minor": 2
}
